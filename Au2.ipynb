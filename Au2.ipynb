{
 "cells": [
  {
   "cell_type": "markdown",
   "metadata": {},
   "source": [
    "1- Verificar se o número é par ou impar"
   ]
  },
  {
   "cell_type": "code",
   "execution_count": null,
   "metadata": {},
   "outputs": [],
   "source": [
    "Num = int (input(\"Digite um número para ser indentificado se é impar ou par\"))\n",
    "if(Num%2==0):\n",
    "    print(\"O número é par\")\n",
    "else:\n",
    "    print(\"O número é impar\")"
   ]
  },
  {
   "cell_type": "markdown",
   "metadata": {},
   "source": [
    "2- Identificando se é maior de idade"
   ]
  },
  {
   "cell_type": "code",
   "execution_count": null,
   "metadata": {},
   "outputs": [],
   "source": [
    "Idade = int (input(\"Digite sua idade\"))\n",
    "if(Idade>=18):\n",
    "    print(\"Você é maior de idade\")\n",
    "else:\n",
    "    print(\"Você é menor de idade\")"
   ]
  },
  {
   "cell_type": "markdown",
   "metadata": {},
   "source": [
    "3- Imprimindo números de 1 a 10"
   ]
  },
  {
   "cell_type": "code",
   "execution_count": 1,
   "metadata": {},
   "outputs": [
    {
     "name": "stdout",
     "output_type": "stream",
     "text": [
      "1\n",
      "2\n",
      "3\n",
      "4\n",
      "5\n",
      "6\n",
      "7\n",
      "8\n",
      "9\n",
      "10\n"
     ]
    }
   ],
   "source": [
    "for valor in range (1,11):\n",
    "    print(valor)"
   ]
  },
  {
   "cell_type": "markdown",
   "metadata": {},
   "source": [
    "4- Lendo e indentificando se a nota é válida"
   ]
  },
  {
   "cell_type": "code",
   "execution_count": null,
   "metadata": {},
   "outputs": [],
   "source": [
    "Nota = int (input(\"Escreva uma nota\"))\n",
    "while(Nota<0 or Nota>10):\n",
    "    print(\"Nota inválida!\")\n",
    "    Nota = int (input(\"Por favor, escreva uma nota ente 0 a 10\"))\n",
    "print(\"Nota válida!\")"
   ]
  },
  {
   "cell_type": "markdown",
   "metadata": {},
   "source": [
    "5- Indentificando uma lista e classificando maior e menor"
   ]
  },
  {
   "cell_type": "code",
   "execution_count": null,
   "metadata": {},
   "outputs": [],
   "source": [
    "Lista = [ float (input(\"Digite o primeiro valor\")), float (input(\"Digite o segundo valor\")), float (input(\"Digite o terceiro valor\"))]\n",
    "Ma = Lista[0]\n",
    "Me = Lista[0]\n",
    "N = 1\n",
    "while(N<3):\n",
    "    if(Lista[N]>Ma):\n",
    "        Ma= Lista[N]\n",
    "    elif(Lista[N]<Me):\n",
    "        Me= Lista[N]\n",
    "    else:{}\n",
    "        \n",
    "    N=N+1\n",
    "\n",
    "print(f\"O maior valor é {Ma} e o menor valor é {Me}\")"
   ]
  },
  {
   "cell_type": "markdown",
   "metadata": {},
   "source": [
    "6- Calculadora de IMC"
   ]
  },
  {
   "cell_type": "code",
   "execution_count": null,
   "metadata": {},
   "outputs": [],
   "source": [
    "# Tabela usada para o estabelecimento dos níveis de IMC\n",
    "# https://superafarma.com.br/wp-content/uploads/2022/12/Supera-Farma-Tabela-IMC-Classificacao.png\n",
    "Res = True\n",
    "while(Res==True):\n",
    "    Peso = float(input(\"Escreva seu peso\"))\n",
    "    Altura = float(input(\"Agora, escreva sua altura\"))\n",
    "    IMC = Peso/Altura**2\n",
    "\n",
    "    if(IMC >= 18.5 and IMC <= 24.9):\n",
    "        print(\"Seu peso está normal.\")\n",
    "    elif(IMC <18.5 and IMC > 17):\n",
    "        print(\"Você está abaixo do peso.\")\n",
    "    elif(IMC <17):\n",
    "        print(\"Você está muito abaixo do peso, procure assistência médica!\")\n",
    "    elif(IMC <30 and IMC > 25):\n",
    "        print(\"Você está acima do peso.\")\n",
    "    elif(IMC <35 and IMC > 30):\n",
    "        print(\"Você possui obesidade de grau 1, procure assistência médica!\")\n",
    "    elif(IMC <40 and IMC > 35):\n",
    "        print(\"Você possui obesidade de grau 2, procure tratanento médico!\")\n",
    "    elif(IMC > 40):\n",
    "        print(\"Você possui obesidade de grau 3, procure tratamento médico, urgente, seu caso é gráve!\")\n",
    "    else:{}\n",
    "    \n",
    "    \n",
    "\n",
    "    Val=0\n",
    "    while(Val==0):\n",
    "        Val = input(\"Deseja realizar o teste novamente?\")\n",
    "        if(Val == \"Sim\" or Val == \"sim\" or Val == \"s\" or Val == \"y\"):\n",
    "            Res = True\n",
    "        elif(Val == \"Não\" or Val == \"não\" or Val == \"Nao\" or Val == \"nao\" or Val == \"n\"):\n",
    "            Res = False\n",
    "        else:\n",
    "            print(\"Resposta inválida\")\n",
    "            Val=0\n",
    "            \n",
    "            \n",
    "    "
   ]
  }
 ],
 "metadata": {
  "kernelspec": {
   "display_name": ".env",
   "language": "python",
   "name": "python3"
  },
  "language_info": {
   "codemirror_mode": {
    "name": "ipython",
    "version": 3
   },
   "file_extension": ".py",
   "mimetype": "text/x-python",
   "name": "python",
   "nbconvert_exporter": "python",
   "pygments_lexer": "ipython3",
   "version": "3.11.4"
  },
  "orig_nbformat": 4
 },
 "nbformat": 4,
 "nbformat_minor": 2
}
