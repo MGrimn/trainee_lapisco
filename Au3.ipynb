{
 "cells": [
  {
   "cell_type": "markdown",
   "metadata": {},
   "source": [
    "1- Intendificando se o nome começa coma letra A."
   ]
  },
  {
   "cell_type": "code",
   "execution_count": null,
   "metadata": {},
   "outputs": [],
   "source": [
    "nome = input(\"Escreva um nome\")\n",
    "if nome[0].strip() == \"a\" or nome[0].strip() == \"A\":\n",
    "    print(\"Esse nome começa com A.\")\n",
    "else:\n",
    "    print(\"Este nome não começa com A\")"
   ]
  },
  {
   "cell_type": "markdown",
   "metadata": {},
   "source": [
    "2- Escrevendo texto de trás pra frente."
   ]
  },
  {
   "cell_type": "code",
   "execution_count": null,
   "metadata": {},
   "outputs": [],
   "source": [
    "texto = input(\"Escreva um texto\")\n",
    "tam = len(texto)\n",
    "inverso = \"\"\n",
    "while tam>0:\n",
    "    inverso = inverso + texto[tam-1]\n",
    "    tam=tam-1\n",
    "print(inverso)"
   ]
  },
  {
   "cell_type": "markdown",
   "metadata": {},
   "source": [
    "3- Removendo as vogais de um texto."
   ]
  },
  {
   "cell_type": "code",
   "execution_count": null,
   "metadata": {},
   "outputs": [],
   "source": [
    "texto = input(\"Escreva uma frase/texto para ser removida sua vogais\")\n",
    "\n",
    "if \"a\" or \"A\" or \"e\" or \"E\" or \"i\" or \"I\" or \"o\" or \"O\" or \"u\" or \"U\" in texto:\n",
    "    texto = texto.replace(\"A\", \"\",)\n",
    "    texto = texto.replace(\"Á\", \"\",)\n",
    "    texto = texto.replace(\"Â\", \"\",)\n",
    "    texto = texto.replace(\"Ã\", \"\",)\n",
    "    texto = texto.replace(\"a\", \"\",)\n",
    "    texto = texto.replace(\"á\", \"\",)\n",
    "    texto = texto.replace(\"â\", \"\",)\n",
    "    texto = texto.replace(\"ã\", \"\",)\n",
    "    texto = texto.replace(\"E\", \"\",)\n",
    "    texto = texto.replace(\"É\", \"\",)\n",
    "    texto = texto.replace(\"Ê\", \"\",)\n",
    "    texto = texto.replace(\"e\", \"\",)\n",
    "    texto = texto.replace(\"é\", \"\",)\n",
    "    texto = texto.replace(\"ê\", \"\",)\n",
    "    texto = texto.replace(\"I\", \"\",)\n",
    "    texto = texto.replace(\"Í\", \"\",)\n",
    "    texto = texto.replace(\"i\", \"\",)\n",
    "    texto = texto.replace(\"í\", \"\",)\n",
    "    texto = texto.replace(\"O\", \"\",)\n",
    "    texto = texto.replace(\"Ô\", \"\",)\n",
    "    texto = texto.replace(\"Ó\", \"\",)\n",
    "    texto = texto.replace(\"Õ\", \"\",)\n",
    "    texto = texto.replace(\"o\", \"\",)\n",
    "    texto = texto.replace(\"ô\", \"\",)\n",
    "    texto = texto.replace(\"ó\", \"\",)\n",
    "    texto = texto.replace(\"õ\", \"\",)\n",
    "    texto = texto.replace(\"U\", \"\",)\n",
    "    texto = texto.replace(\"u\", \"\",)\n",
    "\n",
    "print(texto)    \n",
    "\n"
   ]
  },
  {
   "cell_type": "markdown",
   "metadata": {},
   "source": [
    "4- Recebendo uma string e contando a quantidade de 1's"
   ]
  },
  {
   "cell_type": "code",
   "execution_count": null,
   "metadata": {},
   "outputs": [],
   "source": [
    "string = str(input(\"Escreva uma string à ser contada seus 1's\"))\n",
    "tam=len(string)\n",
    "uns=0\n",
    "while tam>0:\n",
    "    if \"1\" in string[tam-1]:\n",
    "        uns = uns+1\n",
    "    else:\n",
    "        pass\n",
    "    tam = tam-1\n",
    "\n",
    "print(f\"A quantidade de números 1's é {uns}\")"
   ]
  },
  {
   "cell_type": "markdown",
   "metadata": {},
   "source": [
    "5- Filtrando palavras de uma string, correpondetes as da lista; "
   ]
  },
  {
   "cell_type": "code",
   "execution_count": 2,
   "metadata": {},
   "outputs": [
    {
     "name": "stdout",
     "output_type": "stream",
     "text": [
      "ARcosEflechas\n"
     ]
    }
   ],
   "source": [
    "string = input(\"Escreva a string que sera filtrada\")\n",
    "item = \"\"\n",
    "lista = []\n",
    "N=1\n",
    "while item != \"STOP\":\n",
    "    item = input(f\"Escreva a {N}ª palvra à ser filtrada. Quando desejar para digite STOP\")\n",
    "    if item != \"STOP\":\n",
    "        lista.append(item.strip().lower())\n",
    "        lista.append(item.strip().upper())\n",
    "        lista.append(item.strip().title())\n",
    "    else:\n",
    "        pass\n",
    "    N=N+1\n",
    "\n",
    "cont=len(lista)\n",
    "while cont>0:\n",
    "    string = string.replace(lista[cont-1],\"\")\n",
    "    cont= cont-1\n",
    "print(string)"
   ]
  }
 ],
 "metadata": {
  "kernelspec": {
   "display_name": ".env",
   "language": "python",
   "name": "python3"
  },
  "language_info": {
   "codemirror_mode": {
    "name": "ipython",
    "version": 3
   },
   "file_extension": ".py",
   "mimetype": "text/x-python",
   "name": "python",
   "nbconvert_exporter": "python",
   "pygments_lexer": "ipython3",
   "version": "3.11.4"
  },
  "orig_nbformat": 4
 },
 "nbformat": 4,
 "nbformat_minor": 2
}
