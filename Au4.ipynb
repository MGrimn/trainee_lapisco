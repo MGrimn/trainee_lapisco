{
 "cells": [
  {
   "cell_type": "markdown",
   "metadata": {},
   "source": [
    "1- Criando uma lista e somando seus elementos"
   ]
  },
  {
   "cell_type": "code",
   "execution_count": null,
   "metadata": {},
   "outputs": [],
   "source": [
    "lista = []\n",
    "N=1\n",
    "while N <= 5:\n",
    "    lista.append(int(input(f\"Escreva o {N}º da lista\")))\n",
    "    N=N+1\n",
    "\n",
    "Res = int()\n",
    "N=0\n",
    "while N <= (len(lista)-1):\n",
    "    Res = Res + lista[N]\n",
    "    N=N+1\n",
    "\n",
    "print(Res)"
   ]
  },
  {
   "cell_type": "markdown",
   "metadata": {},
   "source": [
    "2- Produzindo um dicionário para as notas de 3 alunos"
   ]
  },
  {
   "cell_type": "code",
   "execution_count": null,
   "metadata": {},
   "outputs": [],
   "source": [
    "N=1\n",
    "bole={}\n",
    "while N <= 3:\n",
    "    bole.update({input(f\"Escreva nome do {N}º aluno(a)\"): int(input(f\"Escreva a nota do {N}º aluno(a)\"))})\n",
    "    N=N+1\n",
    "\n",
    "Res = int()\n",
    "for N in bole:\n",
    "    Res = Res + bole[N]\n",
    "\n",
    "print(f\"A média dos 3 alunos é {Res/3}\")"
   ]
  },
  {
   "cell_type": "markdown",
   "metadata": {},
   "source": [
    "3- Criando 2 conjuntos e fazendo operações com eles"
   ]
  },
  {
   "cell_type": "code",
   "execution_count": 12,
   "metadata": {},
   "outputs": [
    {
     "name": "stdout",
     "output_type": "stream",
     "text": [
      "União de Praia e Shopping\n",
      "{'Areia', 'Cinema', 'Aguá de coco', 'Quiosques', 'Escadas rolante', 'Mar', 'Bancos', 'Lojas'} \n",
      "\n",
      "Interseção de Praia e Shopping\n",
      "{'Quiosques', 'Bancos'} \n",
      "\n",
      "Diferença de Shopping e Praia\n",
      "{'Escadas rolante', 'Cinema', 'Lojas'} \n",
      "\n",
      "Diferença simétrica de Shopping e Praia\n",
      "{'Areia', 'Cinema', 'Aguá de coco', 'Escadas rolante', 'Lojas', 'Mar'} \n",
      "\n"
     ]
    }
   ],
   "source": [
    "Shopping = {\"Bancos\", \"Cinema\", \"Quiosques\", \"Lojas\", \"Escadas rolante\"}\n",
    "Praia = {\"Mar\", \"Bancos\", \"Aguá de coco\", \"Quiosques\", \"Areia\"}\n",
    "\n",
    "print(\"União de Praia e Shopping\")\n",
    "print(f\"{Shopping | Praia} \\n\")\n",
    "\n",
    "print(\"Interseção de Praia e Shopping\")\n",
    "print(f\"{Shopping & Praia} \\n\")\n",
    "\n",
    "print(\"Diferença de Shopping e Praia\")\n",
    "print(f\"{Shopping - Praia} \\n\")\n",
    "\n",
    "print(\"Diferença simétrica de Shopping e Praia\")\n",
    "print(f\"{Shopping ^ Praia} \\n\")"
   ]
  },
  {
   "cell_type": "markdown",
   "metadata": {},
   "source": [
    "4- Indentificando e somando os elementos de uma matriz"
   ]
  },
  {
   "cell_type": "code",
   "execution_count": 1,
   "metadata": {},
   "outputs": [
    {
     "name": "stdout",
     "output_type": "stream",
     "text": [
      "17\n"
     ]
    }
   ],
   "source": [
    "import numpy as np\n",
    "\n",
    "Matriz = np.array([[3,4,1],\n",
    "                   [3,1,5]])\n",
    "\n",
    "L=0\n",
    "C=0\n",
    "Res = int()\n",
    "while L <= 1:\n",
    "    while C <= 2:\n",
    "        Res = Res + Matriz[L][C]\n",
    "        C=C+1\n",
    "    C=0\n",
    "    L=L+1\n",
    "\n",
    "print(Res)"
   ]
  }
 ],
 "metadata": {
  "kernelspec": {
   "display_name": ".env",
   "language": "python",
   "name": "python3"
  },
  "language_info": {
   "codemirror_mode": {
    "name": "ipython",
    "version": 3
   },
   "file_extension": ".py",
   "mimetype": "text/x-python",
   "name": "python",
   "nbconvert_exporter": "python",
   "pygments_lexer": "ipython3",
   "version": "3.11.4"
  },
  "orig_nbformat": 4
 },
 "nbformat": 4,
 "nbformat_minor": 2
}
